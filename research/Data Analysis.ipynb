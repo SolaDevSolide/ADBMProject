{
 "cells": [
  {
   "cell_type": "code",
   "id": "initial_id",
   "metadata": {
    "collapsed": true,
    "jupyter": {
     "is_executing": true
    }
   },
   "source": [
    "import pandas as pd\n",
    "\n",
    "df1 = pd.read_csv(\"../data/2024_LoL_esports_match_data_from_OraclesElixir1.csv\", sep=';')\n",
    "\n",
    "df1.head()"
   ],
   "outputs": [],
   "execution_count": null
  },
  {
   "metadata": {
    "jupyter": {
     "is_executing": true
    }
   },
   "cell_type": "code",
   "source": [
    "df2 = pd.read_csv(\"../data/2024_LoL_esports_match_data_from_OraclesElixir_gamedata.csv\", sep=';')\n",
    "\n",
    "df2.head()"
   ],
   "id": "1efdddcbaba7aff5",
   "outputs": [],
   "execution_count": null
  },
  {
   "metadata": {
    "jupyter": {
     "is_executing": true
    }
   },
   "cell_type": "code",
   "source": [
    "df3 = pd.read_excel(\"../data/2024_LoL_esports_match_data_from_OraclesElixir.xlsx\")\n",
    "df2.head()"
   ],
   "id": "247c1a40b3bbd284",
   "outputs": [],
   "execution_count": null
  }
 ],
 "metadata": {
  "kernelspec": {
   "display_name": "Python 3",
   "language": "python",
   "name": "python3"
  },
  "language_info": {
   "codemirror_mode": {
    "name": "ipython",
    "version": 2
   },
   "file_extension": ".py",
   "mimetype": "text/x-python",
   "name": "python",
   "nbconvert_exporter": "python",
   "pygments_lexer": "ipython2",
   "version": "2.7.6"
  }
 },
 "nbformat": 4,
 "nbformat_minor": 5
}
